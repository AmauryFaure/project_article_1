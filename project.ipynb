{
 "cells": [
  {
   "cell_type": "markdown",
   "source": [
    "# Projet Article 1"
   ],
   "metadata": {
    "collapsed": false
   }
  },
  {
   "cell_type": "code",
   "execution_count": 2,
   "outputs": [],
   "source": [
    "import pandas as pd\n"
   ],
   "metadata": {
    "collapsed": false,
    "pycharm": {
     "name": "#%%\n"
    }
   }
  },
  {
   "cell_type": "code",
   "execution_count": 18,
   "metadata": {
    "collapsed": true
   },
   "outputs": [
    {
     "output_type": "execute_result",
     "data": {
      "text/plain": [
       "   Id                                  tweet (without @)  source  Harmful  \\\n",
       "0   1          sale arabe ( arrête avec tes hontes toi )     1.0      1.0   \n",
       "1   2  y'a une meuf dans classe elle se pleins du rac...     1.0      1.0   \n",
       "2   3  jparle de qui jveux quand elles se font baiser...     1.0      1.0   \n",
       "3   4        tellement sexy franchement t'ai baisable ^^     0.0      1.0   \n",
       "4   5  Je te prend matin midi et soir biatch comme si...     0.0      1.0   \n",
       "\n",
       "  Looked up word  \n",
       "0          arabe  \n",
       "1         arabes  \n",
       "2         baiser  \n",
       "3       baisable  \n",
       "4         biatch  "
      ],
      "text/html": "<div>\n<style scoped>\n    .dataframe tbody tr th:only-of-type {\n        vertical-align: middle;\n    }\n\n    .dataframe tbody tr th {\n        vertical-align: top;\n    }\n\n    .dataframe thead th {\n        text-align: right;\n    }\n</style>\n<table border=\"1\" class=\"dataframe\">\n  <thead>\n    <tr style=\"text-align: right;\">\n      <th></th>\n      <th>Id</th>\n      <th>tweet (without @)</th>\n      <th>source</th>\n      <th>Harmful</th>\n      <th>Looked up word</th>\n    </tr>\n  </thead>\n  <tbody>\n    <tr>\n      <th>0</th>\n      <td>1</td>\n      <td>sale arabe ( arrête avec tes hontes toi )</td>\n      <td>1.0</td>\n      <td>1.0</td>\n      <td>arabe</td>\n    </tr>\n    <tr>\n      <th>1</th>\n      <td>2</td>\n      <td>y'a une meuf dans classe elle se pleins du rac...</td>\n      <td>1.0</td>\n      <td>1.0</td>\n      <td>arabes</td>\n    </tr>\n    <tr>\n      <th>2</th>\n      <td>3</td>\n      <td>jparle de qui jveux quand elles se font baiser...</td>\n      <td>1.0</td>\n      <td>1.0</td>\n      <td>baiser</td>\n    </tr>\n    <tr>\n      <th>3</th>\n      <td>4</td>\n      <td>tellement sexy franchement t'ai baisable ^^</td>\n      <td>0.0</td>\n      <td>1.0</td>\n      <td>baisable</td>\n    </tr>\n    <tr>\n      <th>4</th>\n      <td>5</td>\n      <td>Je te prend matin midi et soir biatch comme si...</td>\n      <td>0.0</td>\n      <td>1.0</td>\n      <td>biatch</td>\n    </tr>\n  </tbody>\n</table>\n</div>"
     },
     "metadata": {},
     "execution_count": 18
    }
   ],
   "source": [
    "df_to_moderate=pd.read_csv(\"get_tweets/selected_tweets.csv\")\n",
    "df_to_moderate.head()"
   ]
  },
  {
   "cell_type": "code",
   "execution_count": 19,
   "metadata": {},
   "outputs": [
    {
     "output_type": "execute_result",
     "data": {
      "text/plain": [
       "                                   tweet (without @)  Harmful\n",
       "0          sale arabe ( arrête avec tes hontes toi )      1.0\n",
       "1  y'a une meuf dans classe elle se pleins du rac...      1.0\n",
       "2  jparle de qui jveux quand elles se font baiser...      1.0\n",
       "3        tellement sexy franchement t'ai baisable ^^      1.0\n",
       "4  Je te prend matin midi et soir biatch comme si...      1.0"
      ],
      "text/html": "<div>\n<style scoped>\n    .dataframe tbody tr th:only-of-type {\n        vertical-align: middle;\n    }\n\n    .dataframe tbody tr th {\n        vertical-align: top;\n    }\n\n    .dataframe thead th {\n        text-align: right;\n    }\n</style>\n<table border=\"1\" class=\"dataframe\">\n  <thead>\n    <tr style=\"text-align: right;\">\n      <th></th>\n      <th>tweet (without @)</th>\n      <th>Harmful</th>\n    </tr>\n  </thead>\n  <tbody>\n    <tr>\n      <th>0</th>\n      <td>sale arabe ( arrête avec tes hontes toi )</td>\n      <td>1.0</td>\n    </tr>\n    <tr>\n      <th>1</th>\n      <td>y'a une meuf dans classe elle se pleins du rac...</td>\n      <td>1.0</td>\n    </tr>\n    <tr>\n      <th>2</th>\n      <td>jparle de qui jveux quand elles se font baiser...</td>\n      <td>1.0</td>\n    </tr>\n    <tr>\n      <th>3</th>\n      <td>tellement sexy franchement t'ai baisable ^^</td>\n      <td>1.0</td>\n    </tr>\n    <tr>\n      <th>4</th>\n      <td>Je te prend matin midi et soir biatch comme si...</td>\n      <td>1.0</td>\n    </tr>\n  </tbody>\n</table>\n</div>"
     },
     "metadata": {},
     "execution_count": 19
    }
   ],
   "source": [
    "df_to_moderate=df_to_moderate.drop([\"Id\",\"source\",\"Looked up word\"],axis=1)\n",
    "df_to_moderate.head()"
   ]
  },
  {
   "source": [
    "df_article1_messages=pd.read_excel(\"AmauryModerationAllMessagesInspireFrom3Aout2020.xlsx\", sheet_name=\"ContenuNormal\")\n",
    "df_article1_messages.head()"
   ],
   "cell_type": "code",
   "metadata": {
    "collapsed": false
   },
   "execution_count": 12,
   "outputs": [
    {
     "output_type": "execute_result",
     "data": {
      "text/plain": [
       "                 _id                                            content  \\\n",
       "0  FjuMJ37PjJ7DxqnmT  je te passe mon insta et je te donnerai mon nu...   \n",
       "1  Fo7kokj7nDMKD2JWr  pas de soucis ;) je peux te passer mon Whats'a...   \n",
       "2  B4nkfsKPjNQSR2AZ8  Ah bah je viens de voir que c’est mal vu de de...   \n",
       "3  irioQAHermketHEb5  Salut 👋🏼 ton parcours m’inspire énormément et ...   \n",
       "4  ys2Q4j7irtk4S2mYh  Ouii\\nEt du coup toi pour la suite tu vas fair...   \n",
       "\n",
       "              sender       recipients.0           threadId     timestamp  \\\n",
       "0  uoHC9sGdWEkgdazZQ  qHRKFnAqv5ipS9mhR  25woAfTMQDGwuNsoS  1.605613e+12   \n",
       "1  uoHC9sGdWEkgdazZQ  qHRKFnAqv5ipS9mhR  25woAfTMQDGwuNsoS  1.605613e+12   \n",
       "2  qHRKFnAqv5ipS9mhR  uoHC9sGdWEkgdazZQ  25woAfTMQDGwuNsoS  1.605024e+12   \n",
       "3  qHRKFnAqv5ipS9mhR  uoHC9sGdWEkgdazZQ  25woAfTMQDGwuNsoS  1.604848e+12   \n",
       "4  ku5FNNe97ZiNN3mRv  ptBQ9emHw8he5pMNn  2cDBPgc59itjrnGv4  1.600979e+12   \n",
       "\n",
       "   EchantillonNormal  \n",
       "0               True  \n",
       "1               True  \n",
       "2               True  \n",
       "3               True  \n",
       "4               True  "
      ],
      "text/html": "<div>\n<style scoped>\n    .dataframe tbody tr th:only-of-type {\n        vertical-align: middle;\n    }\n\n    .dataframe tbody tr th {\n        vertical-align: top;\n    }\n\n    .dataframe thead th {\n        text-align: right;\n    }\n</style>\n<table border=\"1\" class=\"dataframe\">\n  <thead>\n    <tr style=\"text-align: right;\">\n      <th></th>\n      <th>_id</th>\n      <th>content</th>\n      <th>sender</th>\n      <th>recipients.0</th>\n      <th>threadId</th>\n      <th>timestamp</th>\n      <th>EchantillonNormal</th>\n    </tr>\n  </thead>\n  <tbody>\n    <tr>\n      <th>0</th>\n      <td>FjuMJ37PjJ7DxqnmT</td>\n      <td>je te passe mon insta et je te donnerai mon nu...</td>\n      <td>uoHC9sGdWEkgdazZQ</td>\n      <td>qHRKFnAqv5ipS9mhR</td>\n      <td>25woAfTMQDGwuNsoS</td>\n      <td>1.605613e+12</td>\n      <td>True</td>\n    </tr>\n    <tr>\n      <th>1</th>\n      <td>Fo7kokj7nDMKD2JWr</td>\n      <td>pas de soucis ;) je peux te passer mon Whats'a...</td>\n      <td>uoHC9sGdWEkgdazZQ</td>\n      <td>qHRKFnAqv5ipS9mhR</td>\n      <td>25woAfTMQDGwuNsoS</td>\n      <td>1.605613e+12</td>\n      <td>True</td>\n    </tr>\n    <tr>\n      <th>2</th>\n      <td>B4nkfsKPjNQSR2AZ8</td>\n      <td>Ah bah je viens de voir que c’est mal vu de de...</td>\n      <td>qHRKFnAqv5ipS9mhR</td>\n      <td>uoHC9sGdWEkgdazZQ</td>\n      <td>25woAfTMQDGwuNsoS</td>\n      <td>1.605024e+12</td>\n      <td>True</td>\n    </tr>\n    <tr>\n      <th>3</th>\n      <td>irioQAHermketHEb5</td>\n      <td>Salut 👋🏼 ton parcours m’inspire énormément et ...</td>\n      <td>qHRKFnAqv5ipS9mhR</td>\n      <td>uoHC9sGdWEkgdazZQ</td>\n      <td>25woAfTMQDGwuNsoS</td>\n      <td>1.604848e+12</td>\n      <td>True</td>\n    </tr>\n    <tr>\n      <th>4</th>\n      <td>ys2Q4j7irtk4S2mYh</td>\n      <td>Ouii\\nEt du coup toi pour la suite tu vas fair...</td>\n      <td>ku5FNNe97ZiNN3mRv</td>\n      <td>ptBQ9emHw8he5pMNn</td>\n      <td>2cDBPgc59itjrnGv4</td>\n      <td>1.600979e+12</td>\n      <td>True</td>\n    </tr>\n  </tbody>\n</table>\n</div>"
     },
     "metadata": {},
     "execution_count": 12
    }
   ]
  },
  {
   "cell_type": "code",
   "execution_count": 13,
   "metadata": {},
   "outputs": [],
   "source": [
    "df_article1_messages=df_article1_messages.drop([\"_id\",\"sender\",\"recipients.0\",\"threadId\",\"timestamp\",\"EchantillonNormal\"], axis=1)\n",
    "df_article1_messages[\"Harmful\"]=0"
   ]
  },
  {
   "cell_type": "code",
   "execution_count": 14,
   "metadata": {},
   "outputs": [
    {
     "output_type": "execute_result",
     "data": {
      "text/plain": [
       "                                             content  Harmful\n",
       "0  je te passe mon insta et je te donnerai mon nu...        0\n",
       "1  pas de soucis ;) je peux te passer mon Whats'a...        0\n",
       "2  Ah bah je viens de voir que c’est mal vu de de...        0\n",
       "3  Salut 👋🏼 ton parcours m’inspire énormément et ...        0\n",
       "4  Ouii\\nEt du coup toi pour la suite tu vas fair...        0"
      ],
      "text/html": "<div>\n<style scoped>\n    .dataframe tbody tr th:only-of-type {\n        vertical-align: middle;\n    }\n\n    .dataframe tbody tr th {\n        vertical-align: top;\n    }\n\n    .dataframe thead th {\n        text-align: right;\n    }\n</style>\n<table border=\"1\" class=\"dataframe\">\n  <thead>\n    <tr style=\"text-align: right;\">\n      <th></th>\n      <th>content</th>\n      <th>Harmful</th>\n    </tr>\n  </thead>\n  <tbody>\n    <tr>\n      <th>0</th>\n      <td>je te passe mon insta et je te donnerai mon nu...</td>\n      <td>0</td>\n    </tr>\n    <tr>\n      <th>1</th>\n      <td>pas de soucis ;) je peux te passer mon Whats'a...</td>\n      <td>0</td>\n    </tr>\n    <tr>\n      <th>2</th>\n      <td>Ah bah je viens de voir que c’est mal vu de de...</td>\n      <td>0</td>\n    </tr>\n    <tr>\n      <th>3</th>\n      <td>Salut 👋🏼 ton parcours m’inspire énormément et ...</td>\n      <td>0</td>\n    </tr>\n    <tr>\n      <th>4</th>\n      <td>Ouii\\nEt du coup toi pour la suite tu vas fair...</td>\n      <td>0</td>\n    </tr>\n  </tbody>\n</table>\n</div>"
     },
     "metadata": {},
     "execution_count": 14
    }
   ],
   "source": [
    "df_article1_messages.head()"
   ]
  },
  {
   "cell_type": "code",
   "execution_count": 24,
   "metadata": {},
   "outputs": [
    {
     "output_type": "stream",
     "name": "stdout",
     "text": [
      "Nombre de tweet à modérer : 220\n"
     ]
    }
   ],
   "source": [
    "print(f\"Nombre de tweet à modérer : {df_to_moderate.shape[0]}\")"
   ]
  },
  {
   "cell_type": "code",
   "execution_count": null,
   "metadata": {},
   "outputs": [],
   "source": []
  }
 ],
 "metadata": {
  "kernelspec": {
   "display_name": "Python 3",
   "language": "python",
   "name": "python3"
  },
  "language_info": {
   "codemirror_mode": {
    "name": "ipython",
    "version": 2
   },
   "file_extension": ".py",
   "mimetype": "text/x-python",
   "name": "python",
   "nbconvert_exporter": "python",
   "pygments_lexer": "ipython2",
   "version": "3.6.12-final"
  }
 },
 "nbformat": 4,
 "nbformat_minor": 0
}