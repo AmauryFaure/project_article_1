{
  "nbformat": 4,
  "nbformat_minor": 0,
  "metadata": {
    "accelerator": "GPU",
    "colab": {
      "name": "Project_A1_simple.ipynb",
      "provenance": [],
      "collapsed_sections": [],
      "toc_visible": true,
      "include_colab_link": true
    },
    "kernelspec": {
      "display_name": "Python 3.8.2 64-bit ('base': conda)",
      "language": "python",
      "name": "python38264bitbaseconda67962706fddd4eb99e2936a1eb425e21"
    },
    "language_info": {
      "codemirror_mode": {
        "name": "ipython",
        "version": 2
      },
      "file_extension": ".py",
      "mimetype": "text/x-python",
      "name": "python",
      "nbconvert_exporter": "python",
      "pygments_lexer": "ipython2",
      "version": "3.8.2-final"
    }
  },
  "cells": [
    {
      "cell_type": "markdown",
      "metadata": {
        "id": "view-in-github",
        "colab_type": "text"
      },
      "source": [
        "<a href=\"https://colab.research.google.com/github/AmauryFaure/project_article_1/blob/master/Project_A1_simple.ipynb\" target=\"_parent\"><img src=\"https://colab.research.google.com/assets/colab-badge.svg\" alt=\"Open In Colab\"/></a>"
      ]
    },
    {
      "cell_type": "markdown",
      "metadata": {
        "collapsed": false,
        "id": "SocQoXOEv9xd"
      },
      "source": [
        "# Projet Inspire :\n",
        "\n",
        "Notebook réalisé par Amaury Faure dans le cadre d'un projet d'intégration G3 réalisé avec INSPIRE, un des programmes de l'association Article 1. \n",
        "\n",
        "Ce notebook contient des explorations d'algorithmes simples de classification de messages. On utilise dans ce notebook le BoW et TF-IDF conjugé à une régréssion logistique. \n"
      ]
    },
    {
      "cell_type": "markdown",
      "metadata": {
        "id": "pufK9j9Dvc7-"
      },
      "source": [
        "## Initialisation:"
      ]
    },
    {
      "cell_type": "code",
      "metadata": {
        "colab": {
          "base_uri": "https://localhost:8080/"
        },
        "id": "DnG6hNo0PTCh",
        "outputId": "65a06983-9660-43f5-e909-2ba0c084d201"
      },
      "source": [
        "#Connecting to Drive to get files.\n",
        "#Other options is to upload files to local machine (if using google colab)\n",
        "from google.colab import drive\n",
        "drive.mount('/content/drive',force_remount=True)"
      ],
      "execution_count": 1,
      "outputs": [
        {
          "output_type": "stream",
          "text": [
            "Mounted at /content/drive\n"
          ],
          "name": "stdout"
        }
      ]
    },
    {
      "cell_type": "code",
      "metadata": {
        "id": "bqifF1lXv9xt"
      },
      "source": [
        "#Importing pandas and numpy\n",
        "import pandas as pd\n",
        "import numpy as np"
      ],
      "execution_count": 2,
      "outputs": []
    },
    {
      "cell_type": "markdown",
      "metadata": {
        "id": "Ps97S30yv9xu"
      },
      "source": [
        "## Création du dataset d'entaînement :"
      ]
    },
    {
      "cell_type": "code",
      "metadata": {
        "collapsed": true,
        "id": "_hTvFZmTv9xu"
      },
      "source": [
        "#Get tweets\n",
        "df_to_moderate=pd.read_csv(\"/content/drive/MyDrive/article_1_data/selected_tweets.csv\")\n",
        "#Drop unused data\n",
        "df_to_moderate=df_to_moderate.drop([\"Id\",\"source\",\"Looked up word\"],axis=1)\n",
        "#Change column name\n",
        "df_to_moderate[\"content\"]=df_to_moderate[\"tweet (without @)\"]\n",
        "df_to_moderate=df_to_moderate.drop([\"tweet (without @)\"], axis=1)\n",
        "#Drop empty lines\n",
        "df_to_moderate=df_to_moderate.dropna()"
      ],
      "execution_count": 3,
      "outputs": []
    },
    {
      "cell_type": "code",
      "metadata": {
        "id": "F5oU7Wsxv9xw"
      },
      "source": [
        "#Get regular data\n",
        "df_article1_messages=pd.read_excel(\"/content/drive/MyDrive/article_1_data/AmauryModerationAllMessagesInspireFrom3Aout2020.xlsx\", sheet_name=\"ContenuNormal\")\n",
        "#Drop unused data\n",
        "df_article1_messages=df_article1_messages.drop([\"_id\",\"sender\",\"recipients.0\",\"threadId\",\"timestamp\",\"EchantillonNormal\"], axis=1)\n",
        "#Assign label\n",
        "df_article1_messages[\"Harmful\"]=0"
      ],
      "execution_count": 4,
      "outputs": []
    },
    {
      "cell_type": "code",
      "metadata": {
        "id": "XZbR7w16v9xy"
      },
      "source": [
        "#Create training dataset. Balanced 50% for each class !\n",
        "df_to_moderate=pd.concat([df_article1_messages[:200],df_to_moderate],ignore_index=True)"
      ],
      "execution_count": 5,
      "outputs": []
    },
    {
      "cell_type": "markdown",
      "metadata": {
        "id": "t53OrpKtv9xz"
      },
      "source": [
        "## Création du dataset de test :\n",
        "\n",
        "Il y a un problème car nous n'avons pas de dataset d'exemples de message \"a modérer\" d'INSPIRE.\n",
        "\n",
        "On va donc tenter une analyse par 2 approches :\n",
        "- Test sur le dataset de tweets MLMA (sans les tweets d'entraînement)\n",
        "- Evaluation du % de messages d'Article 1 qui sont identifié comme messages à modérer actuellement et qui sont identifié comme à modéré par l'algorithme. \n"
      ]
    },
    {
      "cell_type": "markdown",
      "metadata": {
        "id": "XkNlBGAsvri2"
      },
      "source": [
        "### Création du set de test MLMA :"
      ]
    },
    {
      "cell_type": "code",
      "metadata": {
        "id": "P4ZCUPLVv9xz"
      },
      "source": [
        "test=pd.read_csv(\"/content/drive/MyDrive/article_1_data/fr_dataset_test.csv\")\n",
        "#Dropping Unused columns\n",
        "test=test.drop(test.columns[[7,8,9]],axis=1)\n",
        "test=test.drop(columns=[\"HITId\",\"directness\",\"annotator_sentiment\",\"target\",\"group\"])\n",
        "#Changing sentiment to 0 (for normal) and 1 (for else) \n",
        "test[\"sentiment\"]=[0 if test[\"sentiment\"][x]==\"normal\" else 1 for x in range(test.shape[0])]"
      ],
      "execution_count": 6,
      "outputs": []
    },
    {
      "cell_type": "markdown",
      "metadata": {
        "id": "sAf3MrFYMbS9"
      },
      "source": [
        "### Création du set de test INSPIRE :"
      ]
    },
    {
      "cell_type": "code",
      "metadata": {
        "colab": {
          "base_uri": "https://localhost:8080/",
          "height": 204
        },
        "id": "MAY7ELRiMaib",
        "outputId": "0c661d7d-a782-473b-e985-24d3247efa47"
      },
      "source": [
        "df_a1_to_moderate=pd.read_excel(\"/content/drive/MyDrive/article_1_data/AmauryModerationAllMessagesInspireFrom3Aout2020.xlsx\", sheet_name=\"ContenuToModerate\")\n",
        "df_a1_to_moderate=df_a1_to_moderate.drop(columns=[\"_id\",\"sender\",\"recipients.0\",\"threadId\",\"timestamp\",\"EchantillonToModerate\"])\n",
        "# df_a1_to_moderate.columns=df_a1_to_moderate.columns.str.replace(\"\\n\",\" \")\n",
        "df_a1_to_moderate.head()"
      ],
      "execution_count": 7,
      "outputs": [
        {
          "output_type": "execute_result",
          "data": {
            "text/html": [
              "<div>\n",
              "<style scoped>\n",
              "    .dataframe tbody tr th:only-of-type {\n",
              "        vertical-align: middle;\n",
              "    }\n",
              "\n",
              "    .dataframe tbody tr th {\n",
              "        vertical-align: top;\n",
              "    }\n",
              "\n",
              "    .dataframe thead th {\n",
              "        text-align: right;\n",
              "    }\n",
              "</style>\n",
              "<table border=\"1\" class=\"dataframe\">\n",
              "  <thead>\n",
              "    <tr style=\"text-align: right;\">\n",
              "      <th></th>\n",
              "      <th>content</th>\n",
              "    </tr>\n",
              "  </thead>\n",
              "  <tbody>\n",
              "    <tr>\n",
              "      <th>0</th>\n",
              "      <td>Non, la physique-chimie de lycée n’a pas grand...</td>\n",
              "    </tr>\n",
              "    <tr>\n",
              "      <th>1</th>\n",
              "      <td>Merci infiniment d'avoir pris autant de temps ...</td>\n",
              "    </tr>\n",
              "    <tr>\n",
              "      <th>2</th>\n",
              "      <td>Bonjour ! Alors non la SVT et la biologie ce n...</td>\n",
              "    </tr>\n",
              "    <tr>\n",
              "      <th>3</th>\n",
              "      <td>salut\\nJ'aimerais savoir ce qu'est exactement ...</td>\n",
              "    </tr>\n",
              "    <tr>\n",
              "      <th>4</th>\n",
              "      <td>je sais pas si j'ai répondu à toutes tes quest...</td>\n",
              "    </tr>\n",
              "  </tbody>\n",
              "</table>\n",
              "</div>"
            ],
            "text/plain": [
              "                                             content\n",
              "0  Non, la physique-chimie de lycée n’a pas grand...\n",
              "1  Merci infiniment d'avoir pris autant de temps ...\n",
              "2  Bonjour ! Alors non la SVT et la biologie ce n...\n",
              "3  salut\\nJ'aimerais savoir ce qu'est exactement ...\n",
              "4  je sais pas si j'ai répondu à toutes tes quest..."
            ]
          },
          "metadata": {
            "tags": []
          },
          "execution_count": 7
        }
      ]
    },
    {
      "cell_type": "markdown",
      "metadata": {
        "id": "SQaZ3Dhwv9x0"
      },
      "source": [
        "## Mise en place de Bag Of Words et TF-IDF :\r\n",
        "\r\n",
        "Création de variables :\r\n"
      ]
    },
    {
      "cell_type": "code",
      "metadata": {
        "id": "UdCToMlLv9x0"
      },
      "source": [
        "#Creating arrays for test_values and labels\n",
        "test_values=np.array(test[\"tweet\"])\n",
        "test_labels=np.array(test[\"sentiment\"])\n",
        "# Same but for training\n",
        "train_values=np.array(df_to_moderate[\"content\"])\n",
        "#Extra step to Making sure everything is on a string format (some numbers might not be)\n",
        "train_values=[str(train_values[i]) for i in range(len(train_values))]\n",
        "train_labels=np.array(df_to_moderate[\"Harmful\"])"
      ],
      "execution_count": 8,
      "outputs": []
    },
    {
      "cell_type": "markdown",
      "metadata": {
        "id": "dHaMdN-BxoIr"
      },
      "source": [
        "Création d'un fonction pour le calcul des métriques :"
      ]
    },
    {
      "cell_type": "code",
      "metadata": {
        "id": "JU8lMYH_v9x0"
      },
      "source": [
        "\n",
        "\n",
        "#Import SGDClassifier (allows to implement logistic regression)\n",
        "from sklearn.linear_model import SGDClassifier\n",
        "#Import matplotlib for plots\n",
        "%matplotlib inline\n",
        "import matplotlib.pyplot as plt\n",
        "#Import some metrics\n",
        "from sklearn.metrics import precision_recall_curve, f1_score, accuracy_score, roc_auc_score, confusion_matrix\n",
        "#Import seaborn for plots\n",
        "import seaborn as sns\n",
        "\n",
        "#This function comes from : https://towardsdatascience.com/text-classification-with-extremely-small-datasets-333d322caee2\n",
        "#It computes F1-score\n",
        "def calc_f1(p_and_r):\n",
        "    p, r = p_and_r\n",
        "    return (2*p*r)/(p+r)\n",
        "\n",
        "#This function comes from : https://towardsdatascience.com/text-classification-with-extremely-small-datasets-333d322caee2\n",
        "#It computes some metrics\n",
        "def compute_metrics(y_test, y_prob, verbose=False, return_metrics=True, confusion=False):\n",
        "  precision, recall, threshold = precision_recall_curve(y_test, y_prob, pos_label = 1)\n",
        "\n",
        "  #Optimizing the F1-score\n",
        "  best_f1_index =np.argmax([calc_f1(p_r) for p_r in zip(precision, recall)])\n",
        "  best_threshold, best_precision, best_recall = threshold[best_f1_index], precision[best_f1_index], recall[best_f1_index]\n",
        "\n",
        "  y_test_pred = np.where(y_prob > best_threshold, 1, 0)\n",
        "  \n",
        "  f1 = f1_score(y_test, y_test_pred, pos_label = 1, average = 'binary')\n",
        "  roc_auc = roc_auc_score(y_test, y_prob)\n",
        "  acc = accuracy_score(y_test, y_test_pred)\n",
        "\n",
        "  if confusion:\n",
        "    cm = confusion_matrix(y_test, y_test_pred)\n",
        "    print(cm)\n",
        "\n",
        "    plt.title('Confusion Matrix')\n",
        "    sns.set(font_scale=1.0) #for label size\n",
        "    sns.heatmap(cm, annot = True, fmt = 'd', xticklabels = ['Not harmful', 'Harmful'], yticklabels = ['Not harmful', 'Harmful'], annot_kws={\"size\": 14}, cmap = 'Blues')# font size\n",
        "\n",
        "    plt.xlabel('Prediction')\n",
        "    plt.ylabel('Truth')\n",
        "\n",
        "  if verbose:\n",
        "    print('F1: {:.3f} | Pr: {:.3f} | Re: {:.3f} | AUC: {:.3f} | Accuracy: {:.3f} \\n'.format(f1, best_precision, best_recall, roc_auc, acc))\n",
        "    \n",
        "  if return_metrics:\n",
        "    return np.array([f1, best_precision, best_recall, roc_auc, acc])\n",
        "\n",
        "#Defining a function to do 10 times the logistic regression\n",
        "def evaluate_log_reg(train_features, test_features, y_train, y_test):\n",
        "    score=0\n",
        "    metrics = np.zeros(5)\n",
        "    for i in range(10):\n",
        "        log_reg=SGDClassifier(loss=\"log\", penalty='l2')\n",
        "        log_reg.fit(train_features,y_train)\n",
        "      \n",
        "        y_prob=log_reg.predict_proba(test_features)[:,1]\n",
        "        metrics+=compute_metrics(y_test,y_prob)\n",
        "    metrics /=10\n",
        "\n",
        "    return metrics\n"
      ],
      "execution_count": 9,
      "outputs": []
    },
    {
      "cell_type": "markdown",
      "metadata": {
        "id": "6DOVsWbfx02Q"
      },
      "source": [
        "### Bag of Word :"
      ]
    },
    {
      "cell_type": "code",
      "metadata": {
        "id": "SA_J22Bvv9x0"
      },
      "source": [
        "# Bag of Word\n",
        "from sklearn.feature_extraction.text import CountVectorizer\n",
        "#Declaring the vectorizer\n",
        "bow=CountVectorizer()\n",
        "#Fiting the model to the training dataset, and vectorizing the training dataset\n",
        "train_bow=bow.fit_transform(train_values)\n",
        "#Vectorizing test dataset\n",
        "test_bow=bow.transform(test_values)\n",
        "#Real metrics\n",
        "metrics_bow=evaluate_log_reg(train_bow, test_bow, train_labels, test_labels)\n",
        "#Metrics evaluated on train dataset (to see if overfitting)\n",
        "metrics_train=evaluate_log_reg(train_bow, train_bow, train_labels, train_labels)"
      ],
      "execution_count": 10,
      "outputs": []
    },
    {
      "cell_type": "markdown",
      "metadata": {
        "id": "ZSHi_7cJx20y"
      },
      "source": [
        "### TF-IDF :"
      ]
    },
    {
      "cell_type": "code",
      "metadata": {
        "id": "nxjIM_xcv9x1"
      },
      "source": [
        "# TF-IDF\n",
        "\n",
        "from sklearn.feature_extraction.text import TfidfVectorizer\n",
        "\n",
        "tfidf=TfidfVectorizer()\n",
        "train_tfidf=tfidf.fit_transform(train_values)\n",
        "test_tfidf=tfidf.transform(test_values)\n",
        "\n",
        "metrics_tfidf=evaluate_log_reg(train_tfidf, test_tfidf, train_labels, test_labels)\n",
        "metrics_train_tfidf=evaluate_log_reg(train_tfidf, train_tfidf, train_labels, train_labels)"
      ],
      "execution_count": 11,
      "outputs": []
    },
    {
      "cell_type": "code",
      "metadata": {
        "id": "J1Sa00rwsDv7"
      },
      "source": [
        "metrics_df=pd.DataFrame(metrics_bow.reshape((1,-1)), columns=[\"f1\", \"best_precision\", \"best_recall\", \"roc_auc\", \"acc\"], index=[\"BoW\"])\n",
        "df2=pd.DataFrame(metrics_tfidf.reshape((1,-1)), columns=[\"f1\", \"best_precision\", \"best_recall\", \"roc_auc\", \"acc\"], index=[\"TF-IDF\"])\n",
        "metrics_df=metrics_df.append(df2)"
      ],
      "execution_count": 12,
      "outputs": []
    },
    {
      "cell_type": "code",
      "metadata": {
        "colab": {
          "base_uri": "https://localhost:8080/",
          "height": 111
        },
        "id": "JxwhcYazbtI8",
        "outputId": "abbd5730-1629-4809-ae27-c1f40c4aa769"
      },
      "source": [
        "metrics_df.head()"
      ],
      "execution_count": 13,
      "outputs": [
        {
          "output_type": "execute_result",
          "data": {
            "text/html": [
              "<div>\n",
              "<style scoped>\n",
              "    .dataframe tbody tr th:only-of-type {\n",
              "        vertical-align: middle;\n",
              "    }\n",
              "\n",
              "    .dataframe tbody tr th {\n",
              "        vertical-align: top;\n",
              "    }\n",
              "\n",
              "    .dataframe thead th {\n",
              "        text-align: right;\n",
              "    }\n",
              "</style>\n",
              "<table border=\"1\" class=\"dataframe\">\n",
              "  <thead>\n",
              "    <tr style=\"text-align: right;\">\n",
              "      <th></th>\n",
              "      <th>f1</th>\n",
              "      <th>best_precision</th>\n",
              "      <th>best_recall</th>\n",
              "      <th>roc_auc</th>\n",
              "      <th>acc</th>\n",
              "    </tr>\n",
              "  </thead>\n",
              "  <tbody>\n",
              "    <tr>\n",
              "      <th>BoW</th>\n",
              "      <td>0.886471</td>\n",
              "      <td>0.797094</td>\n",
              "      <td>0.998827</td>\n",
              "      <td>0.595706</td>\n",
              "      <td>0.796569</td>\n",
              "    </tr>\n",
              "    <tr>\n",
              "      <th>TF-IDF</th>\n",
              "      <td>0.886598</td>\n",
              "      <td>0.797417</td>\n",
              "      <td>0.998605</td>\n",
              "      <td>0.652224</td>\n",
              "      <td>0.796872</td>\n",
              "    </tr>\n",
              "  </tbody>\n",
              "</table>\n",
              "</div>"
            ],
            "text/plain": [
              "              f1  best_precision  best_recall   roc_auc       acc\n",
              "BoW     0.886471        0.797094     0.998827  0.595706  0.796569\n",
              "TF-IDF  0.886598        0.797417     0.998605  0.652224  0.796872"
            ]
          },
          "metadata": {
            "tags": []
          },
          "execution_count": 13
        }
      ]
    },
    {
      "cell_type": "code",
      "metadata": {
        "colab": {
          "base_uri": "https://localhost:8080/",
          "height": 343
        },
        "id": "P4YOTITwz8eh",
        "outputId": "b2bafc04-dd8d-4987-f2f9-b63974f84d4f"
      },
      "source": [
        "sns.heatmap(metrics_df, annot=True)\r\n",
        "plt.title(\"Representation en HeatMap de la performance de chaque modèle\")\r\n",
        "plt.show()"
      ],
      "execution_count": 14,
      "outputs": [
        {
          "output_type": "display_data",
          "data": {
            "image/png": "[encoded data removed]",
            "text/plain": [
              "<Figure size 432x288 with 2 Axes>"
            ]
          },
          "metadata": {
            "tags": [],
            "needs_background": "light"
          }
        }
      ]
    },
    {
      "cell_type": "markdown",
      "metadata": {
        "id": "AyQJg1i-OkzN"
      },
      "source": [
        "Les deux modèles semblent offrir des performances très similaires sur le set de test MLMA hormis sur l'air sur la courbe ROC où TF-IDF est meilleur que BoW. "
      ]
    },
    {
      "cell_type": "markdown",
      "metadata": {
        "id": "8tDCa0DmxiSt"
      },
      "source": [
        "## Analyse : Quelles implications sur les messages à modérer A1 ? \r\n",
        "\r\n",
        "\r\n"
      ]
    },
    {
      "cell_type": "markdown",
      "metadata": {
        "id": "Ss620EUi0gFm"
      },
      "source": [
        "### Test avec BoW :"
      ]
    },
    {
      "cell_type": "code",
      "metadata": {
        "id": "KO_9WPqD0Fjm"
      },
      "source": [
        "test_values=np.array(test[\"tweet\"])\r\n",
        "test_labels=np.array(test[\"sentiment\"])\r\n",
        "\r\n",
        "train_values=np.array(df_to_moderate[\"content\"])\r\n",
        "train_values=[str(train_values[i]) for i in range(len(train_values))]\r\n",
        "train_labels=np.array(df_to_moderate[\"Harmful\"])"
      ],
      "execution_count": 15,
      "outputs": []
    },
    {
      "cell_type": "code",
      "metadata": {
        "id": "zfgEdBDFxpO4"
      },
      "source": [
        "#Entrainement d'un Bow\r\n",
        "bow=CountVectorizer()\r\n",
        "train_bow=bow.fit_transform(train_values)\r\n",
        "test_bow=bow.transform(test_values)\r\n",
        "\r\n",
        "log_reg=SGDClassifier(loss=\"log\", penalty='l2')\r\n",
        "log_reg.fit(train_bow,train_labels)\r\n",
        "\r\n",
        "prediction=log_reg.predict(bow.transform(df_a1_to_moderate[\"content\"]))"
      ],
      "execution_count": 16,
      "outputs": []
    },
    {
      "cell_type": "code",
      "metadata": {
        "colab": {
          "base_uri": "https://localhost:8080/"
        },
        "id": "2P1DrhvJ0XQk",
        "outputId": "45526b66-651c-4d02-e2b3-e686049c20ed"
      },
      "source": [
        "bow_percentage=sum(prediction)/df_a1_to_moderate.shape[0]\r\n",
        "print(f\"Le modèle fait ressortir {sum(prediction)} messages problématiques\")\r\n",
        "print(f\"Nombre de messages problématiques originaux : {df_a1_to_moderate.shape[0]}\")\r\n",
        "print(f\"Pourcentage de message problématiques qui ressortent :{bow_percentage}\")"
      ],
      "execution_count": 17,
      "outputs": [
        {
          "output_type": "stream",
          "text": [
            "Le modèle fait ressortir 843.0 messages problématiques\n",
            "Nombre de messages problématiques originaux : 8233\n",
            "Pourcentage de message problématiques qui ressortent :0.10239280942548282\n"
          ],
          "name": "stdout"
        }
      ]
    },
    {
      "cell_type": "markdown",
      "metadata": {
        "id": "rO7fCn-X02S5"
      },
      "source": [
        "Regardons des exemples de messages qui ressortent : "
      ]
    },
    {
      "cell_type": "code",
      "metadata": {
        "colab": {
          "base_uri": "https://localhost:8080/"
        },
        "id": "d-Rs8zgz1L1N",
        "outputId": "9e0feadb-c8f3-4ab2-bed9-b351590e63d8"
      },
      "source": [
        "indexes=[ i for i in range(len(prediction)) if prediction[i]==1]\r\n",
        "df_a1_bow_moderate=df_a1_to_moderate.iloc[indexes]\r\n",
        "\r\n",
        "for i in range(10): \r\n",
        "  print(df_a1_bow_moderate.iloc[i][\"content\"])"
      ],
      "execution_count": 18,
      "outputs": [
        {
          "output_type": "stream",
          "text": [
            "Non j'étais logée chez mes parents \n",
            "Mais sinon je vais qu'il y a pas mal de résidences étudiantes autour de l'IUT\n",
            "t'es un amour merciiiiiiiiii\n",
            "Le double diplôme archi ingé ça m'intéresse mais ça a l'air d'être hyper sélectif...\n",
            "Mais ducoup ça porte sur quoi les oraux ?\n",
            "A Lyon Est le tutorat est génial et remplace complètement une prepa! Ils ont des polycopiés complets, des cours du soir qui aident vraiment et des épreuves blanches chaque semaine.\n",
            "Je n'avais pas les moyens non plus de prendre une prépa, j'ai fait mon année qu'avec le tutorat et j'ai réussi à valider médecine et sage-femme donc c'est largement faisable sans prepa!\n",
            "\n",
            "Je vais finir par croire qu'on est les deux mêmes 😂\n",
            "\n",
            "C'est exactement ça c'est une année intensive où tu te consacres uniquement à ca mais ça vaut le coup! Et ce n'est qu'un an!\n",
            "Et comme tu dis tu auras toujours une deuxième chance\n",
            "Je ne le savais pas, merci\n",
            "*inébranlable est un caprice de mon correcteur automatique\n",
            "Pour les débouchés, c’est la question qui fâche haha. Après une licence d’histoire, on continue généralement vers un master spécialisé dans la période, le sujet qui t’intéresse. Il est également possible  de  passer des concours pour grandes écoles ou écoles de journalisme par exemple. Le débouché que l´on mentionne  le plus souvent est celui de prof, mais ce n'est pas l´unique.\n",
            "Donc se lancer dans le grand bain le plus tôt possible me semble être une bonne chose.\n",
            "La langue espagnol a une autre origine comme par exemple le français au moyen age c'était le latin qui été a la place du français\n",
            "Quel langue a tu trouver le moins difficiles ?\n"
          ],
          "name": "stdout"
        }
      ]
    },
    {
      "cell_type": "markdown",
      "metadata": {
        "id": "Zy9l36sw3tpU"
      },
      "source": [
        "C'est peu satisfaisant, on remarque trop messages qui sont totalement normaux et pour lesquels on ne peut pas trouver de raison de modération. \r\n",
        "\r\n",
        "Il faudrait ré-entrainer avec des données plus précises d'Article 1. L'approche ne semble a priori pas très prometteuse (même si son coût étant très limité peut valoir l'essai).\r\n",
        "\r\n",
        "\r\n"
      ]
    },
    {
      "cell_type": "markdown",
      "metadata": {
        "id": "8HbuUIbmPSL2"
      },
      "source": [
        "## Comparaison avec l'algorithme actuel : Stopwords :\n",
        "\n",
        "Un indicateur de la performance des nouveaux algorithme est la comparaison avec l'algorithme en place qui est un algorithme de détection de stopwords.\n",
        "\n",
        "On va donc faire ceci.\n",
        "Construisons d'abord la liste de stopwords :\n"
      ]
    },
    {
      "cell_type": "code",
      "metadata": {
        "colab": {
          "base_uri": "https://localhost:8080/",
          "height": 204
        },
        "id": "dtGuIV_TSOtq",
        "outputId": "f3131f3f-dab9-437a-b49b-ef3d87d4d685"
      },
      "source": [
        "stopwords_df=pd.read_csv(\"/content/drive/MyDrive/article_1_data/stopwords.csv\",header=None,names=[\"word\"])\n",
        "stopwords_df.head()"
      ],
      "execution_count": 19,
      "outputs": [
        {
          "output_type": "execute_result",
          "data": {
            "text/html": [
              "<div>\n",
              "<style scoped>\n",
              "    .dataframe tbody tr th:only-of-type {\n",
              "        vertical-align: middle;\n",
              "    }\n",
              "\n",
              "    .dataframe tbody tr th {\n",
              "        vertical-align: top;\n",
              "    }\n",
              "\n",
              "    .dataframe thead th {\n",
              "        text-align: right;\n",
              "    }\n",
              "</style>\n",
              "<table border=\"1\" class=\"dataframe\">\n",
              "  <thead>\n",
              "    <tr style=\"text-align: right;\">\n",
              "      <th></th>\n",
              "      <th>word</th>\n",
              "    </tr>\n",
              "  </thead>\n",
              "  <tbody>\n",
              "    <tr>\n",
              "      <th>0</th>\n",
              "      <td>arabes</td>\n",
              "    </tr>\n",
              "    <tr>\n",
              "      <th>1</th>\n",
              "      <td>baisable</td>\n",
              "    </tr>\n",
              "    <tr>\n",
              "      <th>2</th>\n",
              "      <td>biatch</td>\n",
              "    </tr>\n",
              "    <tr>\n",
              "      <th>3</th>\n",
              "      <td>bifle</td>\n",
              "    </tr>\n",
              "    <tr>\n",
              "      <th>4</th>\n",
              "      <td>bite</td>\n",
              "    </tr>\n",
              "  </tbody>\n",
              "</table>\n",
              "</div>"
            ],
            "text/plain": [
              "       word\n",
              "0    arabes\n",
              "1  baisable\n",
              "2    biatch\n",
              "3     bifle\n",
              "4      bite"
            ]
          },
          "metadata": {
            "tags": []
          },
          "execution_count": 19
        }
      ]
    },
    {
      "cell_type": "markdown",
      "metadata": {
        "id": "HQakoyMo1jw4"
      },
      "source": [
        "Construisons une liste avec chaque texte et une valeur booléenne qui indique s'il y a des stopwords ou non, ainsi qu'un compteur :"
      ]
    },
    {
      "cell_type": "code",
      "metadata": {
        "colab": {
          "base_uri": "https://localhost:8080/",
          "height": 204
        },
        "id": "0SwPodh1S__X",
        "outputId": "f98bccfb-b900-47a4-d63d-3235d88f56ce"
      },
      "source": [
        "df_a1_to_moderate_stopwords=df_a1_to_moderate\n",
        "df_a1_to_moderate_stopwords[\"stopwords\"]=False\n",
        "df_a1_to_moderate_stopwords[\"stopwordsCount\"]=0\n",
        "df_a1_to_moderate_stopwords.head()"
      ],
      "execution_count": 20,
      "outputs": [
        {
          "output_type": "execute_result",
          "data": {
            "text/html": [
              "<div>\n",
              "<style scoped>\n",
              "    .dataframe tbody tr th:only-of-type {\n",
              "        vertical-align: middle;\n",
              "    }\n",
              "\n",
              "    .dataframe tbody tr th {\n",
              "        vertical-align: top;\n",
              "    }\n",
              "\n",
              "    .dataframe thead th {\n",
              "        text-align: right;\n",
              "    }\n",
              "</style>\n",
              "<table border=\"1\" class=\"dataframe\">\n",
              "  <thead>\n",
              "    <tr style=\"text-align: right;\">\n",
              "      <th></th>\n",
              "      <th>content</th>\n",
              "      <th>stopwords</th>\n",
              "      <th>stopwordsCount</th>\n",
              "    </tr>\n",
              "  </thead>\n",
              "  <tbody>\n",
              "    <tr>\n",
              "      <th>0</th>\n",
              "      <td>Non, la physique-chimie de lycée n’a pas grand...</td>\n",
              "      <td>False</td>\n",
              "      <td>0</td>\n",
              "    </tr>\n",
              "    <tr>\n",
              "      <th>1</th>\n",
              "      <td>Merci infiniment d'avoir pris autant de temps ...</td>\n",
              "      <td>False</td>\n",
              "      <td>0</td>\n",
              "    </tr>\n",
              "    <tr>\n",
              "      <th>2</th>\n",
              "      <td>Bonjour ! Alors non la SVT et la biologie ce n...</td>\n",
              "      <td>False</td>\n",
              "      <td>0</td>\n",
              "    </tr>\n",
              "    <tr>\n",
              "      <th>3</th>\n",
              "      <td>salut\\nJ'aimerais savoir ce qu'est exactement ...</td>\n",
              "      <td>False</td>\n",
              "      <td>0</td>\n",
              "    </tr>\n",
              "    <tr>\n",
              "      <th>4</th>\n",
              "      <td>je sais pas si j'ai répondu à toutes tes quest...</td>\n",
              "      <td>False</td>\n",
              "      <td>0</td>\n",
              "    </tr>\n",
              "  </tbody>\n",
              "</table>\n",
              "</div>"
            ],
            "text/plain": [
              "                                             content  stopwords  stopwordsCount\n",
              "0  Non, la physique-chimie de lycée n’a pas grand...      False               0\n",
              "1  Merci infiniment d'avoir pris autant de temps ...      False               0\n",
              "2  Bonjour ! Alors non la SVT et la biologie ce n...      False               0\n",
              "3  salut\\nJ'aimerais savoir ce qu'est exactement ...      False               0\n",
              "4  je sais pas si j'ai répondu à toutes tes quest...      False               0"
            ]
          },
          "metadata": {
            "tags": []
          },
          "execution_count": 20
        }
      ]
    },
    {
      "cell_type": "markdown",
      "metadata": {
        "id": "Ag-qA6ub1yJo"
      },
      "source": [
        "Détection des stopwords :"
      ]
    },
    {
      "cell_type": "code",
      "metadata": {
        "id": "Rto0SZetP8qP"
      },
      "source": [
        "df_a1_to_moderate[\"content\"]\n",
        "\n",
        "for a1_index, a1_row in df_a1_to_moderate_stopwords.iterrows():\n",
        "  for s_index, s_row in stopwords_df.iterrows():\n",
        "    if (s_row[\"word\"] in a1_row[\"content\"]):\n",
        "      df_a1_to_moderate_stopwords.at[a1_index,\"stopwords\"]=True\n",
        "      df_a1_to_moderate_stopwords.at[a1_index,\"stopwordsCount\"]=df_a1_to_moderate_stopwords.at[a1_index,\"stopwordsCount\"]+1"
      ],
      "execution_count": 21,
      "outputs": []
    },
    {
      "cell_type": "code",
      "metadata": {
        "colab": {
          "base_uri": "https://localhost:8080/"
        },
        "id": "LB_odvdWURqw",
        "outputId": "5a5c5df0-6c22-4b4b-e5dc-ee9ee54e0e4e"
      },
      "source": [
        "not_flagged,flagged_stopwords=df_a1_to_moderate_stopwords.stopwords.value_counts()\r\n",
        "ratio=flagged_stopwords/(flagged_stopwords+not_flagged)\r\n",
        "\r\n",
        "print(f\"Le modèle fait ressortir {flagged_stopwords} messages problématiques\")\r\n",
        "print(f\"Nombre de messages problématiques originaux : {(flagged_stopwords+not_flagged)}\")\r\n",
        "print(f\"Pourcentage de message problématiques qui ressortent :{ratio}\")\r\n"
      ],
      "execution_count": 22,
      "outputs": [
        {
          "output_type": "stream",
          "text": [
            "Le modèle fait ressortir 1704 messages problématiques\n",
            "Nombre de messages problématiques originaux : 8233\n",
            "Pourcentage de message problématiques qui ressortent :0.2069719421838941\n"
          ],
          "name": "stdout"
        }
      ]
    },
    {
      "cell_type": "markdown",
      "metadata": {
        "id": "bOrGiQBg2XoJ"
      },
      "source": [
        "L'algorithme de détection par stopwords détecte donc environ 20% de messages comme étant dangereux, tandis que BoW en détecte 10%, ce qui semble donc être une amélioration. Ceci est très relatif néanmoins car il est impossible de savoir si on a réellement améliorer la pertinence des messages remonté pour modération."
      ]
    }
  ]
}